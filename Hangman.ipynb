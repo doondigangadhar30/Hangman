{
 "cells": [
  {
   "cell_type": "code",
   "execution_count": 1,
   "id": "02c5ad4a-c11b-471a-90d7-c78c4eb4fed8",
   "metadata": {},
   "outputs": [
    {
     "name": "stderr",
     "output_type": "stream",
     "text": [
      "<>:2: SyntaxWarning: invalid escape sequence '\\ '\n",
      "<>:10: SyntaxWarning: invalid escape sequence '\\ '\n",
      "<>:18: SyntaxWarning: invalid escape sequence '\\ '\n",
      "<>:2: SyntaxWarning: invalid escape sequence '\\ '\n",
      "<>:10: SyntaxWarning: invalid escape sequence '\\ '\n",
      "<>:18: SyntaxWarning: invalid escape sequence '\\ '\n",
      "C:\\Users\\ADMIN\\AppData\\Local\\Temp\\ipykernel_3044\\3362969622.py:2: SyntaxWarning: invalid escape sequence '\\ '\n",
      "  stages = ['''\n",
      "C:\\Users\\ADMIN\\AppData\\Local\\Temp\\ipykernel_3044\\3362969622.py:10: SyntaxWarning: invalid escape sequence '\\ '\n",
      "  ''', '''\n",
      "C:\\Users\\ADMIN\\AppData\\Local\\Temp\\ipykernel_3044\\3362969622.py:18: SyntaxWarning: invalid escape sequence '\\ '\n",
      "  ''', '''\n"
     ]
    },
    {
     "name": "stdout",
     "output_type": "stream",
     "text": [
      "Welcome to Telugu Heroes Hangman game!...\n",
      "Guess the names of popular Telugu heroes to save the man from danger.\n",
      "hint: Hero has 5 characters in his name\n"
     ]
    },
    {
     "name": "stdin",
     "output_type": "stream",
     "text": [
      "Guess a letter:  a\n"
     ]
    },
    {
     "name": "stdout",
     "output_type": "stream",
     "text": [
      "a____\n",
      "\n",
      "  +---+\n",
      "  |   |\n",
      "      |\n",
      "      |\n",
      "      |\n",
      "      |\n",
      "=========\n",
      "\n"
     ]
    },
    {
     "name": "stdin",
     "output_type": "stream",
     "text": [
      "Guess a letter:  r\n"
     ]
    },
    {
     "name": "stdout",
     "output_type": "stream",
     "text": [
      "ar___\n",
      "\n",
      "  +---+\n",
      "  |   |\n",
      "      |\n",
      "      |\n",
      "      |\n",
      "      |\n",
      "=========\n",
      "\n"
     ]
    },
    {
     "name": "stdin",
     "output_type": "stream",
     "text": [
      "Guess a letter:  j\n"
     ]
    },
    {
     "name": "stdout",
     "output_type": "stream",
     "text": [
      "arj__\n",
      "\n",
      "  +---+\n",
      "  |   |\n",
      "      |\n",
      "      |\n",
      "      |\n",
      "      |\n",
      "=========\n",
      "\n"
     ]
    },
    {
     "name": "stdin",
     "output_type": "stream",
     "text": [
      "Guess a letter:  u\n"
     ]
    },
    {
     "name": "stdout",
     "output_type": "stream",
     "text": [
      "arju_\n",
      "\n",
      "  +---+\n",
      "  |   |\n",
      "      |\n",
      "      |\n",
      "      |\n",
      "      |\n",
      "=========\n",
      "\n"
     ]
    },
    {
     "name": "stdin",
     "output_type": "stream",
     "text": [
      "Guess a letter:  n\n"
     ]
    },
    {
     "name": "stdout",
     "output_type": "stream",
     "text": [
      "arjun\n",
      "\n",
      "  +---+\n",
      "  |   |\n",
      "      |\n",
      "      |\n",
      "      |\n",
      "      |\n",
      "=========\n",
      "\n",
      "You win.\n"
     ]
    }
   ],
   "source": [
    "import random\n",
    "stages = ['''\n",
    "  +---+\n",
    "  |   |\n",
    "  O   |\n",
    " /|\\  |\n",
    " / \\  |\n",
    "      |\n",
    "=========\n",
    "''', '''\n",
    "  +---+\n",
    "  |   |\n",
    "  O   |\n",
    " /|\\  |\n",
    " /    |\n",
    "      |\n",
    "=========\n",
    "''', '''\n",
    "  +---+\n",
    "  |   |\n",
    "  O   |\n",
    " /|\\  |\n",
    "      |\n",
    "      |\n",
    "=========\n",
    "''', '''\n",
    "  +---+\n",
    "  |   |\n",
    "  O   |\n",
    " /|   |\n",
    "      |\n",
    "      |\n",
    "=========''', '''\n",
    "  +---+\n",
    "  |   |\n",
    "  O   |\n",
    "  |   |\n",
    "      |\n",
    "      |\n",
    "=========\n",
    "''', '''\n",
    "  +---+\n",
    "  |   |\n",
    "  O   |\n",
    "      |\n",
    "      |\n",
    "      |\n",
    "=========\n",
    "''', '''\n",
    "  +---+\n",
    "  |   |\n",
    "      |\n",
    "      |\n",
    "      |\n",
    "      |\n",
    "=========\n",
    "''']\n",
    "print(\"Welcome to Telugu Heroes Hangman game!...\")\n",
    "print(\"Guess the names of popular Telugu heroes to save the man from danger.\")\n",
    "word_list = [\"pawan\", \"mahesh\", \"prabhas\",\"tharak\",\"chiranjeevi\",\"charan\",\"vijay\",\"nagarjuna\",\"ramarao\",\"chaitanya\",\"venkatesh\",\"nageswarao\",\"arjun\"]\n",
    "lives = 6\n",
    "chosen_word = random.choice(word_list)\n",
    "#print(chosen_word)\n",
    "print(f\"hint: Hero has {len(chosen_word)} characters in his name\")\n",
    "game_over = False\n",
    "correct_letters = []\n",
    "\n",
    "while not game_over:\n",
    "    guess = input(\"Guess a letter: \").lower()\n",
    "    display = \"\"\n",
    "    for letter in chosen_word:\n",
    "        if letter == guess:\n",
    "            display += letter\n",
    "            correct_letters.append(guess)\n",
    "\n",
    "        elif letter in correct_letters:\n",
    "            display += letter\n",
    "        else:\n",
    "            display += \"_\"\n",
    "    if guess not in chosen_word:\n",
    "        lives-=1\n",
    "    if lives<6:\n",
    "        if guess in chosen_word:\n",
    "         lives += 1\n",
    "    if lives==0:\n",
    "        game_over = True\n",
    "        print(\"You loose.\")\n",
    "        break\n",
    "\n",
    "    print(display)\n",
    "    print(stages[lives])\n",
    "\n",
    "    if \"_\" not in display:\n",
    "        game_over = True\n",
    "        print(\"You win.\") "
   ]
  },
  {
   "cell_type": "code",
   "execution_count": null,
   "id": "afcaee3f-c3ab-42b5-a715-367373673a6d",
   "metadata": {},
   "outputs": [],
   "source": []
  }
 ],
 "metadata": {
  "kernelspec": {
   "display_name": "Python 3 (ipykernel)",
   "language": "python",
   "name": "python3"
  },
  "language_info": {
   "codemirror_mode": {
    "name": "ipython",
    "version": 3
   },
   "file_extension": ".py",
   "mimetype": "text/x-python",
   "name": "python",
   "nbconvert_exporter": "python",
   "pygments_lexer": "ipython3",
   "version": "3.12.4"
  }
 },
 "nbformat": 4,
 "nbformat_minor": 5
}
